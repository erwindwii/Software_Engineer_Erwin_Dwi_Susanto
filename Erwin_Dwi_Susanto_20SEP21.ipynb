{
  "nbformat": 4,
  "nbformat_minor": 0,
  "metadata": {
    "colab": {
      "name": "bukanmaen.ipynb",
      "provenance": [],
      "collapsed_sections": []
    },
    "kernelspec": {
      "name": "python3",
      "display_name": "Python 3"
    },
    "language_info": {
      "name": "python"
    }
  },
  "cells": [
    {
      "cell_type": "code",
      "metadata": {
        "id": "PV3CRM4OFQjP"
      },
      "source": [
        "#variabel\n",
        "a = 1 #integer\n",
        "b = 5.0 #Float\n",
        "c = \"maung\" #String\n",
        "d = False #Boolean\n",
        "f = [] #List\n",
        "g = {} #Dictionary\n",
        "h = () #Tuple"
      ],
      "execution_count": null,
      "outputs": []
    },
    {
      "cell_type": "code",
      "metadata": {
        "colab": {
          "base_uri": "https://localhost:8080/"
        },
        "id": "V-nyD7ukKZN_",
        "outputId": "384ee0b8-b60b-48d4-d66e-aa8757840af4"
      },
      "source": [
        "#print\n",
        "print(\"Hai lalala\")\n",
        "print(2*2)\n",
        "print(2)\n",
        "print(c) #Print Variabel"
      ],
      "execution_count": null,
      "outputs": [
        {
          "output_type": "stream",
          "name": "stdout",
          "text": [
            "Hai Babi\n",
            "4\n",
            "2\n",
            "string\n"
          ]
        }
      ]
    },
    {
      "cell_type": "code",
      "metadata": {
        "colab": {
          "base_uri": "https://localhost:8080/"
        },
        "id": "mZbt0ZtiK2kw",
        "outputId": "e1bec40f-0f64-409a-ef2d-b222d3b449fd"
      },
      "source": [
        "#concate\n",
        "print(\"saha ieu \" + c)\n",
        "print(\"saha sia {}\".format(c)) #rekomended,.format lebih aman\n",
        "print(\"ini angka\"+str(a))\n"
      ],
      "execution_count": null,
      "outputs": [
        {
          "output_type": "stream",
          "name": "stdout",
          "text": [
            "saha ieu maung\n",
            "saha sia maung\n",
            "ini angka1\n"
          ]
        }
      ]
    },
    {
      "cell_type": "code",
      "metadata": {
        "colab": {
          "base_uri": "https://localhost:8080/"
        },
        "id": "8u84RaCRM_-i",
        "outputId": "5039596f-3e8c-48ca-9dc3-11eaf8a221fc"
      },
      "source": [
        "print(\"nama aing {}, gpa aing {}, aing adalah {}\".format(c,b,a))"
      ],
      "execution_count": null,
      "outputs": [
        {
          "output_type": "stream",
          "name": "stdout",
          "text": [
            "nama aing maung, gpa aing 5.0, aing adalah 1\n"
          ]
        }
      ]
    },
    {
      "cell_type": "code",
      "metadata": {
        "colab": {
          "base_uri": "https://localhost:8080/"
        },
        "id": "bm0HHtxJNZgJ",
        "outputId": "db5aa0dc-3bc7-4267-c5b8-e3aa01a102c9"
      },
      "source": [
        "#List #bisa menyimpah variabel menggunakan list\n",
        "lah = [\"lalala\", 10, False, 2.30, [\"budi, bambang, alex\"], {\"herman\":\"bapalu\"}]\n",
        "lah[-2] #dari belakang\n",
        "lah[2]"
      ],
      "execution_count": null,
      "outputs": [
        {
          "output_type": "execute_result",
          "data": {
            "text/plain": [
              "False"
            ]
          },
          "metadata": {},
          "execution_count": 30
        }
      ]
    },
    {
      "cell_type": "code",
      "metadata": {
        "colab": {
          "base_uri": "https://localhost:8080/",
          "height": 35
        },
        "id": "R0oOHW0gO4WL",
        "outputId": "ce6419d0-fd68-4031-a907-b48f608b29f4"
      },
      "source": [
        "lah[-1][\"herman\"]"
      ],
      "execution_count": null,
      "outputs": [
        {
          "output_type": "execute_result",
          "data": {
            "application/vnd.google.colaboratory.intrinsic+json": {
              "type": "string"
            },
            "text/plain": [
              "'bapalu'"
            ]
          },
          "metadata": {},
          "execution_count": 32
        }
      ]
    },
    {
      "cell_type": "code",
      "metadata": {
        "colab": {
          "base_uri": "https://localhost:8080/"
        },
        "id": "mIYDE1I4PNby",
        "outputId": "33a29ee6-c557-47b7-c6a0-68147dba2206"
      },
      "source": [
        "nama_siswa = [\"bambang\",\"budi\",\"alex\",\"anjas\",\"maung\",\"buyung\"]\n",
        "nama_siswa[1:5]"
      ],
      "execution_count": null,
      "outputs": [
        {
          "output_type": "execute_result",
          "data": {
            "text/plain": [
              "['budi', 'alex', 'anjas', 'maung']"
            ]
          },
          "metadata": {},
          "execution_count": 33
        }
      ]
    },
    {
      "cell_type": "code",
      "metadata": {
        "colab": {
          "base_uri": "https://localhost:8080/"
        },
        "id": "V2FiCblFPn4u",
        "outputId": "82f16679-4325-43be-e9ca-51fd48472b4f"
      },
      "source": [
        "nama_siswa[-2:]"
      ],
      "execution_count": null,
      "outputs": [
        {
          "output_type": "execute_result",
          "data": {
            "text/plain": [
              "['maung', 'buyung']"
            ]
          },
          "metadata": {},
          "execution_count": 34
        }
      ]
    },
    {
      "cell_type": "code",
      "metadata": {
        "colab": {
          "base_uri": "https://localhost:8080/"
        },
        "id": "hP4npWqRPvVy",
        "outputId": "81d08959-52ce-4d83-fba6-879774056670"
      },
      "source": [
        "nama_siswa[-3:-1] #[awal index:akhir index]"
      ],
      "execution_count": null,
      "outputs": [
        {
          "output_type": "execute_result",
          "data": {
            "text/plain": [
              "['anjas', 'maung']"
            ]
          },
          "metadata": {},
          "execution_count": 36
        }
      ]
    },
    {
      "cell_type": "code",
      "metadata": {
        "id": "WmP6FLDYQTui"
      },
      "source": [
        "#dict\n",
        "index = {\"hewan\":\"gajah\", 0:22, \"Boolean\":\"benar\"}"
      ],
      "execution_count": null,
      "outputs": []
    },
    {
      "cell_type": "code",
      "metadata": {
        "colab": {
          "base_uri": "https://localhost:8080/"
        },
        "id": "ndCQUa5jQpNJ",
        "outputId": "ff636428-83a0-4c63-8ee9-7f4f60353057"
      },
      "source": [
        "index[0]  "
      ],
      "execution_count": null,
      "outputs": [
        {
          "output_type": "execute_result",
          "data": {
            "text/plain": [
              "22"
            ]
          },
          "metadata": {},
          "execution_count": 41
        }
      ]
    },
    {
      "cell_type": "code",
      "metadata": {
        "id": "XYT4KxwgQqsr",
        "colab": {
          "base_uri": "https://localhost:8080/"
        },
        "outputId": "8090b807-a743-465d-a85c-50924271eda7"
      },
      "source": [
        "Nama_Siswa = [\"Bambang\",\"Budi\",\"Joko\",\"Alvin\", \"Said\", \"Mariano\",\"David\"]\n",
        "Nama_Siswa[0:-2:3]"
      ],
      "execution_count": 4,
      "outputs": [
        {
          "output_type": "execute_result",
          "data": {
            "text/plain": [
              "['Bambang', 'Alvin']"
            ]
          },
          "metadata": {},
          "execution_count": 4
        }
      ]
    }
  ]
}