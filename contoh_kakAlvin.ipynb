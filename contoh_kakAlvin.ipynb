{
  "nbformat": 4,
  "nbformat_minor": 0,
  "metadata": {
    "colab": {
      "name": "Untitled13.ipynb",
      "provenance": []
    },
    "kernelspec": {
      "name": "python3",
      "display_name": "Python 3"
    },
    "language_info": {
      "name": "python"
    }
  },
  "cells": [
    {
      "cell_type": "code",
      "metadata": {
        "id": "-Rd4b4jkFBp-"
      },
      "source": [
        "# Contoh Contoh Variabel\n",
        "a = 10 #Integer\n",
        "b = 3.14 #Float\n",
        "c = \"A\" #String\n",
        "d = 'Alvin Utama' #String\n",
        "f = True #Boolean\n",
        "g = False #Boolean\n",
        "h = [] #List\n",
        "i = {} #Dictionary\n",
        "j = () #Tuple"
      ],
      "execution_count": 5,
      "outputs": []
    },
    {
      "cell_type": "code",
      "metadata": {
        "colab": {
          "base_uri": "https://localhost:8080/"
        },
        "id": "as-bB-6PH0ib",
        "outputId": "0779764e-491a-427a-89a1-1b24e9786cae"
      },
      "source": [
        "# Print\n",
        "\n",
        "print(\"Alvin Utama Putra\")\n",
        "print('hai hai')"
      ],
      "execution_count": 6,
      "outputs": [
        {
          "output_type": "stream",
          "name": "stdout",
          "text": [
            "Alvin Utama Putra\n",
            "hai hai\n"
          ]
        }
      ]
    },
    {
      "cell_type": "code",
      "metadata": {
        "colab": {
          "base_uri": "https://localhost:8080/"
        },
        "id": "L5mv-7BhIBhY",
        "outputId": "6d1f915d-f5df-4430-a613-eb9e76c5bc72"
      },
      "source": [
        "print(2)\n",
        "print(2+3*10)"
      ],
      "execution_count": 7,
      "outputs": [
        {
          "output_type": "stream",
          "name": "stdout",
          "text": [
            "2\n",
            "32\n"
          ]
        }
      ]
    },
    {
      "cell_type": "code",
      "metadata": {
        "colab": {
          "base_uri": "https://localhost:8080/"
        },
        "id": "4SIV-VJwIDvL",
        "outputId": "93a8eccb-bc9a-489e-a0c3-445feb66c05d"
      },
      "source": [
        "print(d)"
      ],
      "execution_count": 8,
      "outputs": [
        {
          "output_type": "stream",
          "name": "stdout",
          "text": [
            "Alvin Utama\n"
          ]
        }
      ]
    },
    {
      "cell_type": "code",
      "metadata": {
        "colab": {
          "base_uri": "https://localhost:8080/"
        },
        "id": "N3Wfc3rLK5vr",
        "outputId": "84596e96-24f1-4509-dcc8-ed553318518e"
      },
      "source": [
        "# Concate\n",
        "print(\"Hai namaku \" + d)"
      ],
      "execution_count": 9,
      "outputs": [
        {
          "output_type": "stream",
          "name": "stdout",
          "text": [
            "Hai namaku Alvin Utama\n"
          ]
        }
      ]
    },
    {
      "cell_type": "code",
      "metadata": {
        "colab": {
          "base_uri": "https://localhost:8080/"
        },
        "id": "shFW-Ib4LMua",
        "outputId": "5c1b7de4-c32c-4d56-e88d-297532e5ce85"
      },
      "source": [
        "print(\"Hai namaku {}\".format(d))"
      ],
      "execution_count": 10,
      "outputs": [
        {
          "output_type": "stream",
          "name": "stdout",
          "text": [
            "Hai namaku Alvin Utama\n"
          ]
        }
      ]
    },
    {
      "cell_type": "code",
      "metadata": {
        "colab": {
          "base_uri": "https://localhost:8080/",
          "height": 171
        },
        "id": "rIlZK6_8LbQS",
        "outputId": "a1456f62-5c6e-4ee9-8737-14cb24a86fc9"
      },
      "source": [
        "print(\"Nilainya adalah \" + a)"
      ],
      "execution_count": 11,
      "outputs": [
        {
          "output_type": "error",
          "ename": "TypeError",
          "evalue": "ignored",
          "traceback": [
            "\u001b[0;31m---------------------------------------------------------------------------\u001b[0m",
            "\u001b[0;31mTypeError\u001b[0m                                 Traceback (most recent call last)",
            "\u001b[0;32m<ipython-input-11-a9d7f053ef2d>\u001b[0m in \u001b[0;36m<module>\u001b[0;34m()\u001b[0m\n\u001b[0;32m----> 1\u001b[0;31m \u001b[0mprint\u001b[0m\u001b[0;34m(\u001b[0m\u001b[0;34m\"Nilainya adalah \"\u001b[0m \u001b[0;34m+\u001b[0m \u001b[0ma\u001b[0m\u001b[0;34m)\u001b[0m\u001b[0;34m\u001b[0m\u001b[0;34m\u001b[0m\u001b[0m\n\u001b[0m",
            "\u001b[0;31mTypeError\u001b[0m: can only concatenate str (not \"int\") to str"
          ]
        }
      ]
    },
    {
      "cell_type": "code",
      "metadata": {
        "colab": {
          "base_uri": "https://localhost:8080/"
        },
        "id": "RL4gYucALn8r",
        "outputId": "21c332ba-4b67-4627-e09f-ebd2a8e6aeca"
      },
      "source": [
        "print(\"Nilainya adalah \" + str(a))"
      ],
      "execution_count": 12,
      "outputs": [
        {
          "output_type": "stream",
          "name": "stdout",
          "text": [
            "Nilainya adalah 10\n"
          ]
        }
      ]
    },
    {
      "cell_type": "code",
      "metadata": {
        "colab": {
          "base_uri": "https://localhost:8080/"
        },
        "id": "oJln0v_GLr3A",
        "outputId": "7d51c9df-0cc8-4de1-b59d-9d1c19f05e4a"
      },
      "source": [
        "print(\"Nilainya adalah {}\".format(h))"
      ],
      "execution_count": 16,
      "outputs": [
        {
          "output_type": "stream",
          "name": "stdout",
          "text": [
            "Nilainya adalah []\n"
          ]
        }
      ]
    },
    {
      "cell_type": "code",
      "metadata": {
        "colab": {
          "base_uri": "https://localhost:8080/"
        },
        "id": "GImsxFYLL8xp",
        "outputId": "bf051702-c713-48fd-fcbd-b4821c9f87c3"
      },
      "source": [
        "print(\"Namaku {}, Nilai Ujianku {}, dan aku orang Bekasi {}\".format(d,a,f))"
      ],
      "execution_count": 17,
      "outputs": [
        {
          "output_type": "stream",
          "name": "stdout",
          "text": [
            "Namaku Alvin Utama, Nilai Ujianku 10, dan aku orang Bekasi True\n"
          ]
        }
      ]
    },
    {
      "cell_type": "code",
      "metadata": {
        "id": "Xdztqz49NYX1"
      },
      "source": [
        "Sekolah = [\"Kelas\", 10, True, 3.14, [\"Bambang\",\"Budi\",\"Joko\"], {\"Hewan\":\"Gajah\"}]"
      ],
      "execution_count": 18,
      "outputs": []
    },
    {
      "cell_type": "code",
      "metadata": {
        "colab": {
          "base_uri": "https://localhost:8080/"
        },
        "id": "Q918LswLRU93",
        "outputId": "2bbfd0a4-b117-4ac2-ceb7-8b94b186d685"
      },
      "source": [
        "print(Sekolah)"
      ],
      "execution_count": 40,
      "outputs": [
        {
          "output_type": "stream",
          "name": "stdout",
          "text": [
            "['Kelas', 10, True, 3.14, ['Bambang', 'Budi', 'Joko'], {'Hewan': 'Gajah'}]\n"
          ]
        }
      ]
    },
    {
      "cell_type": "code",
      "metadata": {
        "colab": {
          "base_uri": "https://localhost:8080/"
        },
        "id": "7kf5oHEoRXuO",
        "outputId": "d19c540b-3362-42cb-a868-187e16fa45d7"
      },
      "source": [
        "# for(int i = 0;i<5;i+=2)\n",
        "Sekolah[0:5:2]"
      ],
      "execution_count": 46,
      "outputs": [
        {
          "output_type": "execute_result",
          "data": {
            "text/plain": [
              "['Kelas', True, ['Bambang', 'Budi', 'Joko']]"
            ]
          },
          "metadata": {},
          "execution_count": 46
        }
      ]
    },
    {
      "cell_type": "code",
      "metadata": {
        "colab": {
          "base_uri": "https://localhost:8080/",
          "height": 36
        },
        "id": "KFvhtPfMN3B8",
        "outputId": "4a610372-0d55-4a51-a0a6-c84d5453afe2"
      },
      "source": [
        "Sekolah[0]"
      ],
      "execution_count": 19,
      "outputs": [
        {
          "output_type": "execute_result",
          "data": {
            "application/vnd.google.colaboratory.intrinsic+json": {
              "type": "string"
            },
            "text/plain": [
              "'Kelas'"
            ]
          },
          "metadata": {},
          "execution_count": 19
        }
      ]
    },
    {
      "cell_type": "code",
      "metadata": {
        "colab": {
          "base_uri": "https://localhost:8080/",
          "height": 171
        },
        "id": "BP5BRZ0rOLF0",
        "outputId": "273f692c-089a-4d60-f2ab-620da2940428"
      },
      "source": [
        "sekolah[0]"
      ],
      "execution_count": 20,
      "outputs": [
        {
          "output_type": "error",
          "ename": "NameError",
          "evalue": "ignored",
          "traceback": [
            "\u001b[0;31m---------------------------------------------------------------------------\u001b[0m",
            "\u001b[0;31mNameError\u001b[0m                                 Traceback (most recent call last)",
            "\u001b[0;32m<ipython-input-20-c431f3f5ad73>\u001b[0m in \u001b[0;36m<module>\u001b[0;34m()\u001b[0m\n\u001b[0;32m----> 1\u001b[0;31m \u001b[0msekolah\u001b[0m\u001b[0;34m[\u001b[0m\u001b[0;36m0\u001b[0m\u001b[0;34m]\u001b[0m\u001b[0;34m\u001b[0m\u001b[0;34m\u001b[0m\u001b[0m\n\u001b[0m",
            "\u001b[0;31mNameError\u001b[0m: name 'sekolah' is not defined"
          ]
        }
      ]
    },
    {
      "cell_type": "code",
      "metadata": {
        "colab": {
          "base_uri": "https://localhost:8080/"
        },
        "id": "8E5sJrlLOT35",
        "outputId": "30428153-00e5-49dd-b7e3-c6b7d2e6be9b"
      },
      "source": [
        "Sekolah[4]"
      ],
      "execution_count": 21,
      "outputs": [
        {
          "output_type": "execute_result",
          "data": {
            "text/plain": [
              "['Bambang', 'Budi', 'Joko']"
            ]
          },
          "metadata": {},
          "execution_count": 21
        }
      ]
    },
    {
      "cell_type": "code",
      "metadata": {
        "colab": {
          "base_uri": "https://localhost:8080/",
          "height": 36
        },
        "id": "03DuV8J0OuRh",
        "outputId": "2660813a-15ec-43f0-cab3-04979de541e9"
      },
      "source": [
        "Sekolah[4][0]"
      ],
      "execution_count": 25,
      "outputs": [
        {
          "output_type": "execute_result",
          "data": {
            "application/vnd.google.colaboratory.intrinsic+json": {
              "type": "string"
            },
            "text/plain": [
              "'Bambang'"
            ]
          },
          "metadata": {},
          "execution_count": 25
        }
      ]
    },
    {
      "cell_type": "code",
      "metadata": {
        "colab": {
          "base_uri": "https://localhost:8080/",
          "height": 36
        },
        "id": "r0EUNCkCOZmV",
        "outputId": "35790315-9086-464b-a448-c8f6586343c7"
      },
      "source": [
        "Sekolah[-1][\"Hewan\"]"
      ],
      "execution_count": 26,
      "outputs": [
        {
          "output_type": "execute_result",
          "data": {
            "application/vnd.google.colaboratory.intrinsic+json": {
              "type": "string"
            },
            "text/plain": [
              "'Gajah'"
            ]
          },
          "metadata": {},
          "execution_count": 26
        }
      ]
    },
    {
      "cell_type": "code",
      "metadata": {
        "id": "4RpsVl-lPJNa"
      },
      "source": [
        "Nama_Siswa = [\"Bambang\",\"Budi\",\"Joko\",\"Alvin\", \"Said\", \"Mariano\",\"David\"]"
      ],
      "execution_count": 27,
      "outputs": []
    },
    {
      "cell_type": "code",
      "metadata": {
        "colab": {
          "base_uri": "https://localhost:8080/"
        },
        "id": "KZ6yepamPRG9",
        "outputId": "8369c4d2-526a-4cb3-ba8c-856900585b75"
      },
      "source": [
        "# List Slicing\n",
        "Nama_Siswa[2:5] #2,3,4"
      ],
      "execution_count": 30,
      "outputs": [
        {
          "output_type": "execute_result",
          "data": {
            "text/plain": [
              "['Joko', 'Alvin', 'Said']"
            ]
          },
          "metadata": {},
          "execution_count": 30
        }
      ]
    },
    {
      "cell_type": "code",
      "metadata": {
        "colab": {
          "base_uri": "https://localhost:8080/"
        },
        "id": "zuFQ2IRdQG4p",
        "outputId": "e50c42d0-31ee-4232-e2d8-57af26f0b548"
      },
      "source": [
        "Nama_Siswa[3:-1]"
      ],
      "execution_count": 33,
      "outputs": [
        {
          "output_type": "execute_result",
          "data": {
            "text/plain": [
              "['Alvin', 'Said', 'Mariano']"
            ]
          },
          "metadata": {},
          "execution_count": 33
        }
      ]
    },
    {
      "cell_type": "code",
      "metadata": {
        "colab": {
          "base_uri": "https://localhost:8080/"
        },
        "id": "x7iEBZVlPmvO",
        "outputId": "24223192-ee31-4fd5-9516-5e11cec34a9d"
      },
      "source": [
        "Nama_Siswa[-2:]"
      ],
      "execution_count": 31,
      "outputs": [
        {
          "output_type": "execute_result",
          "data": {
            "text/plain": [
              "['Mariano', 'David']"
            ]
          },
          "metadata": {},
          "execution_count": 31
        }
      ]
    },
    {
      "cell_type": "code",
      "metadata": {
        "colab": {
          "base_uri": "https://localhost:8080/"
        },
        "id": "JyI6kMenPuhd",
        "outputId": "514d36e3-7e77-4292-a56a-7b0c56d3373e"
      },
      "source": [
        "Nama_Siswa[-3:]"
      ],
      "execution_count": 32,
      "outputs": [
        {
          "output_type": "execute_result",
          "data": {
            "text/plain": [
              "['Said', 'Mariano', 'David']"
            ]
          },
          "metadata": {},
          "execution_count": 32
        }
      ]
    },
    {
      "cell_type": "code",
      "metadata": {
        "id": "uyX1LvqDPzX3"
      },
      "source": [
        "[Awal index : Setelah Akhir Index]"
      ],
      "execution_count": null,
      "outputs": []
    },
    {
      "cell_type": "code",
      "metadata": {
        "id": "ZEeQ7AiWQS3k"
      },
      "source": [
        "#Dictionary\n",
        "\n",
        "Dict1 = {\"Hewan\":\"Gajah\", 0:22, \"Boolean\":\"Benar\"}"
      ],
      "execution_count": 34,
      "outputs": []
    },
    {
      "cell_type": "code",
      "metadata": {
        "colab": {
          "base_uri": "https://localhost:8080/",
          "height": 36
        },
        "id": "f6F15kjGQmCS",
        "outputId": "9a95f4f5-8a11-4605-9a1a-96ca238cfa09"
      },
      "source": [
        "Dict1[\"Hewan\"]"
      ],
      "execution_count": 35,
      "outputs": [
        {
          "output_type": "execute_result",
          "data": {
            "application/vnd.google.colaboratory.intrinsic+json": {
              "type": "string"
            },
            "text/plain": [
              "'Gajah'"
            ]
          },
          "metadata": {},
          "execution_count": 35
        }
      ]
    },
    {
      "cell_type": "code",
      "metadata": {
        "colab": {
          "base_uri": "https://localhost:8080/"
        },
        "id": "aaidmgxBQorn",
        "outputId": "e2ee3f24-49b2-4d39-ecff-ed94d8b5428f"
      },
      "source": [
        "Dict1[0]"
      ],
      "execution_count": 36,
      "outputs": [
        {
          "output_type": "execute_result",
          "data": {
            "text/plain": [
              "22"
            ]
          },
          "metadata": {},
          "execution_count": 36
        }
      ]
    },
    {
      "cell_type": "code",
      "metadata": {
        "colab": {
          "base_uri": "https://localhost:8080/",
          "height": 36
        },
        "id": "14to_qFDQtfQ",
        "outputId": "1bc63052-446d-4c06-ddbe-f1d42980108b"
      },
      "source": [
        "Dict1[\"Boolean\"]"
      ],
      "execution_count": 37,
      "outputs": [
        {
          "output_type": "execute_result",
          "data": {
            "application/vnd.google.colaboratory.intrinsic+json": {
              "type": "string"
            },
            "text/plain": [
              "'Benar'"
            ]
          },
          "metadata": {},
          "execution_count": 37
        }
      ]
    },
    {
      "cell_type": "code",
      "metadata": {
        "colab": {
          "base_uri": "https://localhost:8080/",
          "height": 36
        },
        "id": "rrAgMYe0Q8YN",
        "outputId": "47cf3840-3fcc-4084-9f95-e3f83e33904c"
      },
      "source": [
        "Nama_Siswa[6]"
      ],
      "execution_count": 38,
      "outputs": [
        {
          "output_type": "execute_result",
          "data": {
            "application/vnd.google.colaboratory.intrinsic+json": {
              "type": "string"
            },
            "text/plain": [
              "'David'"
            ]
          },
          "metadata": {},
          "execution_count": 38
        }
      ]
    },
    {
      "cell_type": "code",
      "metadata": {
        "colab": {
          "base_uri": "https://localhost:8080/",
          "height": 36
        },
        "id": "6ODuMyOLRAsr",
        "outputId": "13c8f4f1-c750-4a10-828b-0094bb90e367"
      },
      "source": [
        "Nama_Siswa[-1]"
      ],
      "execution_count": 39,
      "outputs": [
        {
          "output_type": "execute_result",
          "data": {
            "application/vnd.google.colaboratory.intrinsic+json": {
              "type": "string"
            },
            "text/plain": [
              "'David'"
            ]
          },
          "metadata": {},
          "execution_count": 39
        }
      ]
    }
  ]
}
