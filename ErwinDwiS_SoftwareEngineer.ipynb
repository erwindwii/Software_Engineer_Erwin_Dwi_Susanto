{
  "nbformat": 4,
  "nbformat_minor": 0,
  "metadata": {
    "colab": {
      "name": "ErwinDwiS_SoftwareEngineer.ipynb",
      "provenance": []
    },
    "kernelspec": {
      "name": "python3",
      "display_name": "Python 3"
    },
    "language_info": {
      "name": "python"
    }
  },
  "cells": [
    {
      "cell_type": "code",
      "metadata": {
        "id": "dwGSiH9Lm7zS"
      },
      "source": [
        "#methode list\n",
        "# Methode Disctionary\n",
        "# Tuple\n",
        "# Set\n",
        "# Looping\n",
        "# Function\n"
      ],
      "execution_count": null,
      "outputs": []
    },
    {
      "cell_type": "code",
      "metadata": {
        "colab": {
          "base_uri": "https://localhost:8080/"
        },
        "id": "KFZGA4h4n_xJ",
        "outputId": "baac90df-e34a-4a67-977c-b5ca6e328c87"
      },
      "source": [
        "#list recap\n",
        "contoh_list = [\"erwin\", 12, 09.0, True, [], {}, (), False]\n",
        "print(contoh_list[0]) #mulai dari index pertama\n",
        "print(contoh_list[-1]) #mulai dari index terakhir"
      ],
      "execution_count": null,
      "outputs": [
        {
          "output_type": "stream",
          "name": "stdout",
          "text": [
            "erwin\n",
            "False\n"
          ]
        }
      ]
    },
    {
      "cell_type": "code",
      "metadata": {
        "colab": {
          "base_uri": "https://localhost:8080/"
        },
        "id": "Ll6VpvMyovPt",
        "outputId": "6f7880d1-ed21-4afa-bbe3-c94e92139dda"
      },
      "source": [
        "#dictionary\n",
        "contoh_dict = {2:\"ini dua\", \"erwin\":12, 90:False, 3.0:[\"erwin dwi\"]}\n",
        "print(contoh_dict[2])"
      ],
      "execution_count": null,
      "outputs": [
        {
          "output_type": "stream",
          "name": "stdout",
          "text": [
            "ini dua\n"
          ]
        }
      ]
    },
    {
      "cell_type": "code",
      "metadata": {
        "id": "majTyENbpI4C"
      },
      "source": [
        "#methode list\n",
        "list_angka = [1,2,3,4,5,6,7]\n"
      ],
      "execution_count": null,
      "outputs": []
    },
    {
      "cell_type": "code",
      "metadata": {
        "colab": {
          "base_uri": "https://localhost:8080/"
        },
        "id": "xXiYUUvYpPAc",
        "outputId": "92ec55ea-db0f-435f-f42b-1001d05f78b5"
      },
      "source": [
        "#sort mengurutkaan dari awal\n",
        "list_angka.sort()\n",
        "list_angka"
      ],
      "execution_count": null,
      "outputs": [
        {
          "output_type": "execute_result",
          "data": {
            "text/plain": [
              "[1, 2, 3, 4, 5, 6, 7]"
            ]
          },
          "metadata": {},
          "execution_count": 6
        }
      ]
    },
    {
      "cell_type": "code",
      "metadata": {
        "colab": {
          "base_uri": "https://localhost:8080/"
        },
        "id": "96w9jgv5pVDe",
        "outputId": "8c68d8f8-0ace-4fac-c8fc-9b27dc15f55d"
      },
      "source": [
        "list_angka.sort(reverse = True) #sort dari akhir\n",
        "list_angka"
      ],
      "execution_count": null,
      "outputs": [
        {
          "output_type": "execute_result",
          "data": {
            "text/plain": [
              "[7, 6, 5, 4, 3, 2, 1]"
            ]
          },
          "metadata": {},
          "execution_count": 7
        }
      ]
    },
    {
      "cell_type": "code",
      "metadata": {
        "colab": {
          "base_uri": "https://localhost:8080/"
        },
        "id": "WaJ26Zw1pdSz",
        "outputId": "ef7c99ba-dbc2-493f-afde-262c0249451f"
      },
      "source": [
        "#menambahkan list APPEND\n",
        "list_angka.append(\"Dia\")\n",
        "list_angka "
      ],
      "execution_count": null,
      "outputs": [
        {
          "output_type": "execute_result",
          "data": {
            "text/plain": [
              "[7, 6, 5, 4, 3, 2, 1, 'Dia']"
            ]
          },
          "metadata": {},
          "execution_count": 8
        }
      ]
    },
    {
      "cell_type": "code",
      "metadata": {
        "colab": {
          "base_uri": "https://localhost:8080/"
        },
        "id": "rhcN8SWzpq_3",
        "outputId": "c9e3229c-83e3-46e5-ca5a-ea05e44870bb"
      },
      "source": [
        "#penambahan value di index tertentu INSERT\n",
        "list_angka.insert(3,\"ini insert\")\n",
        "list_angka"
      ],
      "execution_count": null,
      "outputs": [
        {
          "output_type": "execute_result",
          "data": {
            "text/plain": [
              "[7, 6, 5, 'ini insert', 4, 3, 2, 1, 'Dia']"
            ]
          },
          "metadata": {},
          "execution_count": 9
        }
      ]
    },
    {
      "cell_type": "code",
      "metadata": {
        "colab": {
          "base_uri": "https://localhost:8080/"
        },
        "id": "IRCixTEfp7Qm",
        "outputId": "c54f3c30-8f81-4144-edf8-1b4dc8ecc8e9"
      },
      "source": [
        "# Pop menghilangkan value di index terakhir\n",
        "list_angka.pop()\n",
        "list_angka"
      ],
      "execution_count": null,
      "outputs": [
        {
          "output_type": "execute_result",
          "data": {
            "text/plain": [
              "[7, 6, 5, 'ini insert', 4, 3, 2, 1]"
            ]
          },
          "metadata": {},
          "execution_count": 10
        }
      ]
    },
    {
      "cell_type": "code",
      "metadata": {
        "colab": {
          "base_uri": "https://localhost:8080/"
        },
        "id": "V1Vfb9JdqIYn",
        "outputId": "8e7955bb-02ff-458c-a63d-bb8efc6e68ad"
      },
      "source": [
        "# Remove menghilangkan value di index tertentu\n",
        "list_angka.remove(5)\n",
        "list_angka"
      ],
      "execution_count": null,
      "outputs": [
        {
          "output_type": "execute_result",
          "data": {
            "text/plain": [
              "[1, 2, 3, 4, 6, 7]"
            ]
          },
          "metadata": {},
          "execution_count": 14
        }
      ]
    },
    {
      "cell_type": "code",
      "metadata": {
        "colab": {
          "base_uri": "https://localhost:8080/"
        },
        "id": "_AukQ4xEqhke",
        "outputId": "6a21b64c-d790-45d9-f564-49f2337bba77"
      },
      "source": [
        "#remove by index\n",
        "list_data = [1,2,3,4,5,6,7,7,7]\n",
        "list_data.remove(7)\n",
        "list_data"
      ],
      "execution_count": null,
      "outputs": [
        {
          "output_type": "execute_result",
          "data": {
            "text/plain": [
              "[1, 2, 3, 4, 5, 6, 7, 7]"
            ]
          },
          "metadata": {},
          "execution_count": 15
        }
      ]
    },
    {
      "cell_type": "code",
      "metadata": {
        "colab": {
          "base_uri": "https://localhost:8080/"
        },
        "id": "9WCTlJ1Aqvx5",
        "outputId": "622a8155-7729-4d6d-ece4-3288cb6fab9b"
      },
      "source": [
        "list_data = [1,2,3,4,5,6,7,7,7]\n",
        "list_data"
      ],
      "execution_count": null,
      "outputs": [
        {
          "output_type": "execute_result",
          "data": {
            "text/plain": [
              "[1, 2, 3, 4, 5, 6, 7, 7, 7]"
            ]
          },
          "metadata": {},
          "execution_count": 17
        }
      ]
    },
    {
      "cell_type": "code",
      "metadata": {
        "colab": {
          "base_uri": "https://localhost:8080/"
        },
        "id": "cG_HYLXGq7rT",
        "outputId": "9a58b248-d747-4dc5-c5de-084bd8b41d13"
      },
      "source": [
        "#dictionary\n",
        "contoh_dict = {2:\"ini dua\", \"erwin\":12, 90:False, 3.0:[\"erwin dwi\"]}\n",
        "print(contoh_dict)"
      ],
      "execution_count": null,
      "outputs": [
        {
          "output_type": "stream",
          "name": "stdout",
          "text": [
            "{2: 'ini dua', 'erwin': 12, 90: False, 3.0: ['erwin dwi']}\n"
          ]
        }
      ]
    },
    {
      "cell_type": "code",
      "metadata": {
        "colab": {
          "base_uri": "https://localhost:8080/"
        },
        "id": "0Mbc9hC3rbCU",
        "outputId": "8b56d7d2-3b08-48ed-a473-c4491495f226"
      },
      "source": [
        "contoh_dict[\"negara\"] = \"indonesia\"\n",
        "contoh_dict"
      ],
      "execution_count": null,
      "outputs": [
        {
          "output_type": "execute_result",
          "data": {
            "text/plain": [
              "{2: 'ini dua',\n",
              " 3.0: ['erwin dwi'],\n",
              " 90: False,\n",
              " 'erwin': 12,\n",
              " 'negara': 'indonesia'}"
            ]
          },
          "metadata": {},
          "execution_count": 20
        }
      ]
    },
    {
      "cell_type": "code",
      "metadata": {
        "colab": {
          "base_uri": "https://localhost:8080/"
        },
        "id": "0cGoYMkdrqIy",
        "outputId": "dbe6e70a-b114-409f-f69d-4ca50a83aaac"
      },
      "source": [
        "#dua value\n",
        "contoh_dict[\"negara\"] =[\"indonesia\"]\n",
        "contoh_dict"
      ],
      "execution_count": null,
      "outputs": [
        {
          "output_type": "execute_result",
          "data": {
            "text/plain": [
              "{2: 'ini dua',\n",
              " 3.0: ['erwin dwi'],\n",
              " 90: False,\n",
              " 'erwin': 12,\n",
              " 'negara': ['indonesia']}"
            ]
          },
          "metadata": {},
          "execution_count": 21
        }
      ]
    },
    {
      "cell_type": "code",
      "metadata": {
        "colab": {
          "base_uri": "https://localhost:8080/"
        },
        "id": "h7QIp3Myr42S",
        "outputId": "996dcd29-1f59-4588-dde8-03635456ab29"
      },
      "source": [
        "contoh_dict[\"negara\"].append(\"italy\")\n",
        "contoh_dict\n"
      ],
      "execution_count": null,
      "outputs": [
        {
          "output_type": "execute_result",
          "data": {
            "text/plain": [
              "{2: 'ini dua',\n",
              " 3.0: ['erwin dwi'],\n",
              " 90: False,\n",
              " 'erwin': 12,\n",
              " 'negara': ['indonesia', 'italy']}"
            ]
          },
          "metadata": {},
          "execution_count": 22
        }
      ]
    },
    {
      "cell_type": "code",
      "metadata": {
        "id": "4n_czSt3sETQ"
      },
      "source": [
        "binatang = {}\n"
      ],
      "execution_count": null,
      "outputs": []
    },
    {
      "cell_type": "code",
      "metadata": {
        "colab": {
          "base_uri": "https://localhost:8080/"
        },
        "id": "FetMdG6jsaIa",
        "outputId": "125f9b1b-d2fc-4287-990c-c208bd7911ff"
      },
      "source": [
        "binatang[\"raja hewan\"] = [\"macan\"]\n",
        "binatang"
      ],
      "execution_count": null,
      "outputs": [
        {
          "output_type": "execute_result",
          "data": {
            "text/plain": [
              "{'raja hewan': ['macan']}"
            ]
          },
          "metadata": {},
          "execution_count": 24
        }
      ]
    },
    {
      "cell_type": "code",
      "metadata": {
        "colab": {
          "base_uri": "https://localhost:8080/",
          "height": 183
        },
        "id": "JPeU1z5ZsrtE",
        "outputId": "3c3d0b27-24ad-4475-bbbf-db8a73b15e49"
      },
      "source": [
        "binatang[\"raja hewan\"].append('babi')\n",
        "binatang"
      ],
      "execution_count": null,
      "outputs": [
        {
          "output_type": "error",
          "ename": "TypeError",
          "evalue": "ignored",
          "traceback": [
            "\u001b[0;31m---------------------------------------------------------------------------\u001b[0m",
            "\u001b[0;31mTypeError\u001b[0m                                 Traceback (most recent call last)",
            "\u001b[0;32m<ipython-input-31-86b5d578d130>\u001b[0m in \u001b[0;36m<module>\u001b[0;34m()\u001b[0m\n\u001b[0;32m----> 1\u001b[0;31m \u001b[0mbinatang\u001b[0m\u001b[0;34m[\u001b[0m\u001b[0;34m\"raja hewan\"\u001b[0m\u001b[0;34m]\u001b[0m\u001b[0;34m.\u001b[0m\u001b[0mappend\u001b[0m\u001b[0;34m(\u001b[0m\u001b[0;34m'babi'\u001b[0m\u001b[0;34m)\u001b[0m\u001b[0;34m\u001b[0m\u001b[0;34m\u001b[0m\u001b[0m\n\u001b[0m\u001b[1;32m      2\u001b[0m \u001b[0mbinatang\u001b[0m\u001b[0;34m\u001b[0m\u001b[0;34m\u001b[0m\u001b[0m\n",
            "\u001b[0;31mTypeError\u001b[0m: 'NoneType' object is not subscriptable"
          ]
        }
      ]
    },
    {
      "cell_type": "code",
      "metadata": {
        "id": "mfxHB2SJs4pq"
      },
      "source": [
        "binatang = [\"raja hewan\"].extend(('maung','sia'))\n"
      ],
      "execution_count": null,
      "outputs": []
    },
    {
      "cell_type": "code",
      "metadata": {
        "id": "-gZ6-D-RtyRc"
      },
      "source": [
        ""
      ],
      "execution_count": null,
      "outputs": []
    },
    {
      "cell_type": "code",
      "metadata": {
        "colab": {
          "base_uri": "https://localhost:8080/"
        },
        "id": "eZrdfD-OuJDj",
        "outputId": "41279faa-335b-43c5-8f53-5d512c81dd9c"
      },
      "source": [
        "# Tuple\n",
        "contoh_tuple = (1,2,3,4,5,6)\n",
        "contoh_tuple"
      ],
      "execution_count": null,
      "outputs": [
        {
          "output_type": "execute_result",
          "data": {
            "text/plain": [
              "(1, 2, 3, 4, 5, 6)"
            ]
          },
          "metadata": {},
          "execution_count": 32
        }
      ]
    },
    {
      "cell_type": "code",
      "metadata": {
        "colab": {
          "base_uri": "https://localhost:8080/",
          "height": 183
        },
        "id": "ddye1LGiuQHU",
        "outputId": "b6061e53-eeca-4d94-c75e-389eecd13138"
      },
      "source": [
        "contoh_tuple[2] = 5\n",
        "print(contoh_tuple)"
      ],
      "execution_count": null,
      "outputs": [
        {
          "output_type": "error",
          "ename": "TypeError",
          "evalue": "ignored",
          "traceback": [
            "\u001b[0;31m---------------------------------------------------------------------------\u001b[0m",
            "\u001b[0;31mTypeError\u001b[0m                                 Traceback (most recent call last)",
            "\u001b[0;32m<ipython-input-35-a9bca43f12c8>\u001b[0m in \u001b[0;36m<module>\u001b[0;34m()\u001b[0m\n\u001b[0;32m----> 1\u001b[0;31m \u001b[0mcontoh_tuple\u001b[0m\u001b[0;34m[\u001b[0m\u001b[0;36m2\u001b[0m\u001b[0;34m]\u001b[0m \u001b[0;34m=\u001b[0m \u001b[0;36m5\u001b[0m\u001b[0;34m\u001b[0m\u001b[0;34m\u001b[0m\u001b[0m\n\u001b[0m\u001b[1;32m      2\u001b[0m \u001b[0mprint\u001b[0m\u001b[0;34m(\u001b[0m\u001b[0mcontoh_tuple\u001b[0m\u001b[0;34m)\u001b[0m\u001b[0;34m\u001b[0m\u001b[0;34m\u001b[0m\u001b[0m\n",
            "\u001b[0;31mTypeError\u001b[0m: 'tuple' object does not support item assignment"
          ]
        }
      ]
    },
    {
      "cell_type": "code",
      "metadata": {
        "colab": {
          "base_uri": "https://localhost:8080/"
        },
        "id": "a-P_OTnOuifN",
        "outputId": "6215af2f-3c57-49ae-fe5e-68273130edea"
      },
      "source": [
        "#set tidak bisa nerima data duplicate\n",
        "contoh_set = set([1,2,3,4,5,6,7,7,\"erwin\",\"dwi\",7])\n",
        "contoh_set"
      ],
      "execution_count": null,
      "outputs": [
        {
          "output_type": "execute_result",
          "data": {
            "text/plain": [
              "{1, 2, 3, 4, 5, 6, 7, 'dwi', 'erwin'}"
            ]
          },
          "metadata": {},
          "execution_count": 36
        }
      ]
    },
    {
      "cell_type": "code",
      "metadata": {
        "colab": {
          "base_uri": "https://localhost:8080/",
          "height": 35
        },
        "id": "MUrdotr1uziR",
        "outputId": "a665ca21-15bb-4339-d587-4c4d36c98ddf"
      },
      "source": [
        "#casting set ke list\n",
        "contoh_list = list(contoh_set)\n",
        "contoh_list[-1]"
      ],
      "execution_count": null,
      "outputs": [
        {
          "output_type": "execute_result",
          "data": {
            "application/vnd.google.colaboratory.intrinsic+json": {
              "type": "string"
            },
            "text/plain": [
              "'erwin'"
            ]
          },
          "metadata": {},
          "execution_count": 37
        }
      ]
    },
    {
      "cell_type": "code",
      "metadata": {
        "colab": {
          "base_uri": "https://localhost:8080/"
        },
        "id": "GxkUVVbyvFEL",
        "outputId": "ae5ca8d3-51cf-44c7-ddfa-50923f498c1f"
      },
      "source": [
        "contoh_list"
      ],
      "execution_count": null,
      "outputs": [
        {
          "output_type": "execute_result",
          "data": {
            "text/plain": [
              "[1, 2, 3, 4, 5, 6, 7, 'dwi', 'erwin']"
            ]
          },
          "metadata": {},
          "execution_count": 38
        }
      ]
    },
    {
      "cell_type": "code",
      "metadata": {
        "id": "TujLOX4mvIp7"
      },
      "source": [
        "contoh_dict = dict(contoh_list)"
      ],
      "execution_count": null,
      "outputs": []
    },
    {
      "cell_type": "code",
      "metadata": {
        "colab": {
          "base_uri": "https://localhost:8080/"
        },
        "id": "KK7vPzEqvhF8",
        "outputId": "8d97c59a-8c9e-4e82-f10a-af0d868b9812"
      },
      "source": [
        "help(sorted)"
      ],
      "execution_count": null,
      "outputs": [
        {
          "output_type": "stream",
          "name": "stdout",
          "text": [
            "Help on built-in function sorted in module builtins:\n",
            "\n",
            "sorted(iterable, /, *, key=None, reverse=False)\n",
            "    Return a new list containing all items from the iterable in ascending order.\n",
            "    \n",
            "    A custom key function can be supplied to customize the sort order, and the\n",
            "    reverse flag can be set to request the result in descending order.\n",
            "\n"
          ]
        }
      ]
    },
    {
      "cell_type": "code",
      "metadata": {
        "colab": {
          "base_uri": "https://localhost:8080/"
        },
        "id": "tiTltgCRwcPP",
        "outputId": "549d1091-581e-42a2-d78e-fbeb2b8cb29f"
      },
      "source": [
        "#operator\n",
        "a = 10\n",
        "b = 2\n",
        "a + b \n",
        "a - b\n",
        "a * b\n",
        "a / b # float division 1.5\n",
        "a // b #floaat division 1\n",
        "a ** b\n",
        "a % b\n",
        "c = 196\n",
        "c ** 0.5\n",
        "\n",
        "\n"
      ],
      "execution_count": null,
      "outputs": [
        {
          "output_type": "execute_result",
          "data": {
            "text/plain": [
              "14.0"
            ]
          },
          "metadata": {},
          "execution_count": 42
        }
      ]
    },
    {
      "cell_type": "code",
      "metadata": {
        "id": "Rb8uTwdxxDQw"
      },
      "source": [
        "# conditional Statement\n",
        "a<b\n",
        "a>b\n",
        "a<=b\n",
        "a>=b\n",
        "a==b\n",
        "a!=b\n",
        "True and True #True\n",
        "True and False # Falase\n",
        "True or True #True\n",
        "True or False # True\n",
        "False or False # False"
      ],
      "execution_count": null,
      "outputs": []
    },
    {
      "cell_type": "code",
      "metadata": {
        "id": "HkfxT3W7wcGJ"
      },
      "source": [
        "#if else\n",
        "\n",
        "if a < b:\n",
        "  print(\"a lebih kecil dari b\")\n",
        "elif a > b:\n",
        "  print(\"a lebih besar dari b\")\n",
        "else:\n",
        "  print(\"a dan b sama\") "
      ],
      "execution_count": null,
      "outputs": []
    },
    {
      "cell_type": "code",
      "metadata": {
        "colab": {
          "base_uri": "https://localhost:8080/"
        },
        "id": "538RhebDyxZg",
        "outputId": "15a39ab5-4929-4fab-d294-dee4e2adfc20"
      },
      "source": [
        "# looping\n",
        "# While\n",
        "# For\n",
        "\n",
        "for i in range(10):\n",
        "  print(\"mager\")"
      ],
      "execution_count": null,
      "outputs": [
        {
          "output_type": "stream",
          "name": "stdout",
          "text": [
            "mager\n",
            "mager\n",
            "mager\n",
            "mager\n",
            "mager\n",
            "mager\n",
            "mager\n",
            "mager\n",
            "mager\n",
            "mager\n"
          ]
        }
      ]
    },
    {
      "cell_type": "code",
      "metadata": {
        "colab": {
          "base_uri": "https://localhost:8080/"
        },
        "id": "s0BNxt4lzJLr",
        "outputId": "003ac845-6dff-41a2-cee0-edae49dd3ed2"
      },
      "source": [
        "for i in range(10):\n",
        "  print(i)"
      ],
      "execution_count": null,
      "outputs": [
        {
          "output_type": "stream",
          "name": "stdout",
          "text": [
            "0\n",
            "1\n",
            "2\n",
            "3\n",
            "4\n",
            "5\n",
            "6\n",
            "7\n",
            "8\n",
            "9\n"
          ]
        }
      ]
    },
    {
      "cell_type": "code",
      "metadata": {
        "colab": {
          "base_uri": "https://localhost:8080/"
        },
        "id": "rmEtwtIqzkZ5",
        "outputId": "f8db6e42-3d32-4fdd-921b-f2da947a3739"
      },
      "source": [
        "for i in range(0,20,2): #mulai di 0 sampai 19 + 1 \n",
        "  print(i)\n"
      ],
      "execution_count": null,
      "outputs": [
        {
          "output_type": "stream",
          "name": "stdout",
          "text": [
            "0\n",
            "2\n",
            "4\n",
            "6\n",
            "8\n",
            "10\n",
            "12\n",
            "14\n",
            "16\n",
            "18\n"
          ]
        }
      ]
    },
    {
      "cell_type": "code",
      "metadata": {
        "colab": {
          "base_uri": "https://localhost:8080/"
        },
        "id": "UVaeMD9X0FsP",
        "outputId": "68882107-7f28-4e89-ee2e-6cf7d023a83b"
      },
      "source": [
        "for i in range(20,0,-1): #mulai dari 20 sampe sebelum 0 dan -1\n",
        "  print(i)\n"
      ],
      "execution_count": null,
      "outputs": [
        {
          "output_type": "stream",
          "name": "stdout",
          "text": [
            "20\n",
            "19\n",
            "18\n",
            "17\n",
            "16\n",
            "15\n",
            "14\n",
            "13\n",
            "12\n",
            "11\n",
            "10\n",
            "9\n",
            "8\n",
            "7\n",
            "6\n",
            "5\n",
            "4\n",
            "3\n",
            "2\n",
            "1\n"
          ]
        }
      ]
    },
    {
      "cell_type": "code",
      "metadata": {
        "colab": {
          "base_uri": "https://localhost:8080/"
        },
        "id": "kg6lK4Np0SAe",
        "outputId": "735a1a40-40d1-4c71-e650-69d19903b835"
      },
      "source": [
        "#While\n",
        "\n",
        "a = 10\n",
        "\n",
        "while a<20:\n",
        "  print(\"a masih lebih kecil dari 20: {}\".format(a))\n",
        "  a+=1"
      ],
      "execution_count": null,
      "outputs": [
        {
          "output_type": "stream",
          "name": "stdout",
          "text": [
            "a masih lebih kecil dari 20: 10\n",
            "a masih lebih kecil dari 20: 11\n",
            "a masih lebih kecil dari 20: 12\n",
            "a masih lebih kecil dari 20: 13\n",
            "a masih lebih kecil dari 20: 14\n",
            "a masih lebih kecil dari 20: 15\n",
            "a masih lebih kecil dari 20: 16\n",
            "a masih lebih kecil dari 20: 17\n",
            "a masih lebih kecil dari 20: 18\n",
            "a masih lebih kecil dari 20: 19\n"
          ]
        }
      ]
    },
    {
      "cell_type": "code",
      "metadata": {
        "colab": {
          "base_uri": "https://localhost:8080/"
        },
        "id": "TPiHx-wW0xAW",
        "outputId": "0c9a0d4b-6d34-47ee-9600-b276f18cc7e2"
      },
      "source": [
        "while True:  #break\n",
        "  umur = int(input(\"masukan umur\"))\n",
        "  if umur >= 17:\n",
        "    break"
      ],
      "execution_count": null,
      "outputs": [
        {
          "name": "stdout",
          "output_type": "stream",
          "text": [
            "masukan umur17\n"
          ]
        }
      ]
    },
    {
      "cell_type": "code",
      "metadata": {
        "colab": {
          "base_uri": "https://localhost:8080/"
        },
        "id": "tVlXwthm1Dlp",
        "outputId": "ccedb60c-a131-4d68-c6b6-4d8f68d0cb45"
      },
      "source": [
        "while True:  #continue\n",
        "  umur = int(input(\"masukan umur\"))\n",
        "  if umur == 17:\n",
        "    continue\n",
        "  elif umur >= 17:\n",
        "    break\n",
        "  print(\"umur masih dibawah 17th\")"
      ],
      "execution_count": null,
      "outputs": [
        {
          "name": "stdout",
          "output_type": "stream",
          "text": [
            "masukan umur9\n",
            "umur masih dibawah 17th\n",
            "masukan umur17\n",
            "masukan umur17\n",
            "masukan umur18\n"
          ]
        }
      ]
    },
    {
      "cell_type": "code",
      "metadata": {
        "id": "5WWPWY2q1PbN"
      },
      "source": [
        "# looping value dalam list\n",
        "\n",
        "list_angka = [1,2,3,4,5,6,7,8,9]\n",
        "for nilai in list_angka:\n",
        "  if nilai == 7:\n",
        "    list_angka.remove(7)"
      ],
      "execution_count": null,
      "outputs": []
    },
    {
      "cell_type": "code",
      "metadata": {
        "colab": {
          "base_uri": "https://localhost:8080/"
        },
        "id": "CEaFAJ2t2TU-",
        "outputId": "e78aa403-aa8a-4cf1-d7bc-d77b759ac11a"
      },
      "source": [
        "list_angka"
      ],
      "execution_count": null,
      "outputs": [
        {
          "output_type": "execute_result",
          "data": {
            "text/plain": [
              "[1, 2, 3, 4, 5, 6, 8, 9]"
            ]
          },
          "metadata": {},
          "execution_count": 65
        }
      ]
    },
    {
      "cell_type": "code",
      "metadata": {
        "colab": {
          "base_uri": "https://localhost:8080/"
        },
        "id": "D1_fFM9N2VHx",
        "outputId": "e466ece8-b915-4ec5-d3c3-13c35d6b2af7"
      },
      "source": [
        "#for else\n",
        "\n",
        "for i in range(10):\n",
        "  print(i)\n",
        "else:\n",
        "  print(\"akan di break ketika break tidak tereksekusi\")\n"
      ],
      "execution_count": null,
      "outputs": [
        {
          "output_type": "stream",
          "name": "stdout",
          "text": [
            "0\n",
            "1\n",
            "2\n",
            "3\n",
            "4\n",
            "5\n",
            "6\n",
            "7\n",
            "8\n",
            "9\n",
            "akan di break ketika break tidak tereksekusi\n"
          ]
        }
      ]
    },
    {
      "cell_type": "code",
      "metadata": {
        "colab": {
          "base_uri": "https://localhost:8080/"
        },
        "id": "GOjiyccd2xp1",
        "outputId": "fb4327d5-aca6-4b29-b9f7-e1bfc5d0ecb5"
      },
      "source": [
        "#for else\n",
        "\n",
        "for i in range(10):\n",
        "  print(i)\n",
        "  if i == 5:\n",
        "    break\n",
        "else:\n",
        "  print(\"akan di break ketika break tidak tereksekusi\")\n"
      ],
      "execution_count": null,
      "outputs": [
        {
          "output_type": "stream",
          "name": "stdout",
          "text": [
            "0\n",
            "1\n",
            "2\n",
            "3\n",
            "4\n",
            "5\n"
          ]
        }
      ]
    }
  ]
}