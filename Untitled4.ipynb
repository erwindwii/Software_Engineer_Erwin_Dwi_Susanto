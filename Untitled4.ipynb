{
  "nbformat": 4,
  "nbformat_minor": 0,
  "metadata": {
    "colab": {
      "name": "Untitled4.ipynb",
      "provenance": []
    },
    "kernelspec": {
      "name": "python3",
      "display_name": "Python 3"
    },
    "language_info": {
      "name": "python"
    }
  },
  "cells": [
    {
      "cell_type": "code",
      "metadata": {
        "id": "703AVT38zAab"
      },
      "source": [
        "#list comprehension\n",
        "#function\n",
        "#class\n",
        "#pycharm"
      ],
      "execution_count": null,
      "outputs": []
    },
    {
      "cell_type": "code",
      "metadata": {
        "id": "Ngh2lUIgzXy4"
      },
      "source": [
        "#tugas\n",
        "1. buat linkedin\n",
        "2. buat akun di hackerrank terus di kerjain"
      ],
      "execution_count": null,
      "outputs": []
    },
    {
      "cell_type": "code",
      "metadata": {
        "colab": {
          "base_uri": "https://localhost:8080/"
        },
        "id": "chHFNbF635l9",
        "outputId": "69ccc2a8-92a4-4605-f558-fd4273fccff6"
      },
      "source": [
        "#list comprehension\n",
        "list_bilangan_ganjil = []\n",
        "for i in range(0,100):\n",
        "  if i % 2 == 1:\n",
        "    list_bilangan_ganjil.append(i)\n",
        "print(list_bilangan_ganjil)"
      ],
      "execution_count": null,
      "outputs": [
        {
          "output_type": "stream",
          "name": "stdout",
          "text": [
            "[1, 3, 5, 7, 9, 11, 13, 15, 17, 19, 21, 23, 25, 27, 29, 31, 33, 35, 37, 39, 41, 43, 45, 47, 49, 51, 53, 55, 57, 59, 61, 63, 65, 67, 69, 71, 73, 75, 77, 79, 81, 83, 85, 87, 89, 91, 93, 95, 97, 99]\n"
          ]
        }
      ]
    },
    {
      "cell_type": "code",
      "metadata": {
        "id": "MUJ2Yni65a-j"
      },
      "source": [
        "#noted: lebih cepat menggunakan list comprehension"
      ],
      "execution_count": null,
      "outputs": []
    },
    {
      "cell_type": "code",
      "metadata": {
        "colab": {
          "base_uri": "https://localhost:8080/"
        },
        "id": "hyYSTBhM449G",
        "outputId": "1d0e8551-7e37-405b-c803-63c5e493a454"
      },
      "source": [
        "list_bilangan_ganjil_comp = [i for i in range(0,100) if i % 2 == 1]\n",
        "print(list_bilangan_ganjil_comp)"
      ],
      "execution_count": null,
      "outputs": [
        {
          "output_type": "stream",
          "name": "stdout",
          "text": [
            "[1, 3, 5, 7, 9, 11, 13, 15, 17, 19, 21, 23, 25, 27, 29, 31, 33, 35, 37, 39, 41, 43, 45, 47, 49, 51, 53, 55, 57, 59, 61, 63, 65, 67, 69, 71, 73, 75, 77, 79, 81, 83, 85, 87, 89, 91, 93, 95, 97, 99]\n"
          ]
        }
      ]
    },
    {
      "cell_type": "code",
      "metadata": {
        "id": "Ia2d0syX5Ztd"
      },
      "source": [
        "#function\n",
        "def cariNilai(a, b, c):\n",
        "  if a > b and a > c:\n",
        "    return a\n",
        "  elif b > c and b > c:\n",
        "    return b\n",
        "  else:\n",
        "    return c"
      ],
      "execution_count": null,
      "outputs": []
    },
    {
      "cell_type": "code",
      "metadata": {
        "colab": {
          "base_uri": "https://localhost:8080/"
        },
        "id": "NPD-TLVg7Kjw",
        "outputId": "a16bd8a5-03f5-406f-8105-d955ffd71b51"
      },
      "source": [
        "cariNilai(5, 10, 20)"
      ],
      "execution_count": null,
      "outputs": [
        {
          "output_type": "execute_result",
          "data": {
            "text/plain": [
              "20"
            ]
          },
          "metadata": {},
          "execution_count": 5
        }
      ]
    },
    {
      "cell_type": "code",
      "metadata": {
        "id": "W9nxlOta7QiT"
      },
      "source": [
        "#Class\n",
        "\n",
        "class kalkulator():\n",
        "  def tambah(self,a,b):\n",
        "    return a + b\n",
        "  def kurang(self,a,b):\n",
        "    return a - b\n",
        "  def bagi(self,a,b):\n",
        "    return a / b"
      ],
      "execution_count": null,
      "outputs": []
    },
    {
      "cell_type": "code",
      "metadata": {
        "id": "P1ijnK3p8Py2"
      },
      "source": [
        "kalku = kalkulator()\n"
      ],
      "execution_count": null,
      "outputs": []
    },
    {
      "cell_type": "code",
      "metadata": {
        "colab": {
          "base_uri": "https://localhost:8080/"
        },
        "id": "dMur3t0Z8WE7",
        "outputId": "2da756bc-bde1-4697-ae48-6e500cb3061d"
      },
      "source": [
        "print(kalku.tambah(12,12))\n",
        "print(kalku.kurang(12,12))\n",
        "print(kalku.bagi(12,12))\n"
      ],
      "execution_count": null,
      "outputs": [
        {
          "output_type": "stream",
          "name": "stdout",
          "text": [
            "24\n",
            "0\n",
            "1.0\n"
          ]
        }
      ]
    }
  ]
}