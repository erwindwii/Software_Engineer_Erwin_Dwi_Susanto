{
  "nbformat": 4,
  "nbformat_minor": 0,
  "metadata": {
    "colab": {
      "name": "Untitled3.ipynb",
      "provenance": [],
      "collapsed_sections": []
    },
    "kernelspec": {
      "name": "python3",
      "display_name": "Python 3"
    },
    "language_info": {
      "name": "python"
    }
  },
  "cells": [
    {
      "cell_type": "code",
      "metadata": {
        "id": "SYCj-TGPtZOQ"
      },
      "source": [
        "#cari semua bilangan prima dari batas yang di input user\n"
      ],
      "execution_count": null,
      "outputs": []
    },
    {
      "cell_type": "code",
      "metadata": {
        "colab": {
          "base_uri": "https://localhost:8080/"
        },
        "id": "CykRpWDrtdHA",
        "outputId": "6e7fcd63-f3e0-450a-90fc-92e015e70c4e"
      },
      "source": [
        "bilanganPrima = []\n",
        "mulai = int(input(\"Mulai dari : \"))\n",
        "berhenti = int(input(\"berhenti di : \"))\n",
        "\n",
        "for angka in range(mulai,berhenti+1):\n",
        "    if angka > 1:\n",
        "        for i in range(2,angka):\n",
        "            if(angka % i) == 0:\n",
        "                break\n",
        "        else:\n",
        "            bilanganPrima.append(angka)\n",
        "\n",
        "print(\"bilangan prima yang dimulai dari {} dan berhenti di {} hasilnya adalah {}\".format(mulai,berhenti,bilanganPrima))\n",
        "\n"
      ],
      "execution_count": null,
      "outputs": [
        {
          "output_type": "stream",
          "name": "stdout",
          "text": [
            "Mulai dari : 10\n",
            "berhenti di : 30\n",
            "bilangan prima yang dimulai dari 10 dan berhenti di 30 hasilnya adalah [11, 13, 17, 19, 23, 29]\n"
          ]
        }
      ]
    }
  ]
}
